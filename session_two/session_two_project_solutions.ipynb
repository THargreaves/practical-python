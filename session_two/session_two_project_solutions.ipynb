{
 "cells": [
  {
   "cell_type": "markdown",
   "metadata": {},
   "source": [
    "## Setup"
   ]
  },
  {
   "cell_type": "markdown",
   "metadata": {},
   "source": [
    "We will need to import some built-in modules as well as the helper files written to support this project."
   ]
  },
  {
   "cell_type": "code",
   "execution_count": 5,
   "metadata": {},
   "outputs": [],
   "source": [
    "import os\n",
    "import pickle\n",
    "import random\n",
    "import time\n",
    "\n",
    "from IPython.display import clear_output\n",
    "\n",
    "from session_two_helpers import get_celeb_twitters, get_follower_count"
   ]
  },
  {
   "cell_type": "markdown",
   "metadata": {},
   "source": [
    "## Game Function"
   ]
  },
  {
   "cell_type": "markdown",
   "metadata": {},
   "source": [
    "I have packaged the main body of the game in a function which can be called to play. This also accepts a leaderboard which is then returned with new entries."
   ]
  },
  {
   "cell_type": "code",
   "execution_count": 6,
   "metadata": {},
   "outputs": [],
   "source": [
    "def random_celeb(twitter_urls):\n",
    "    \"\"\"Choose a random celebrity and return their name and follower count.\"\"\"\n",
    "    followers = None\n",
    "    # some celebrities have no follower count so loop over these\n",
    "    while followers is None:\n",
    "        name, url = random.choice(twitter_urls)\n",
    "        followers = get_follower_count(url)\n",
    "    return name, followers"
   ]
  },
  {
   "cell_type": "code",
   "execution_count": 3,
   "metadata": {},
   "outputs": [],
   "source": [
    "def higher_or_lower(lives=1, high_score_board={}):\n",
    "    \"\"\"\n",
    "    Play a game of higher or lower and update the high score board.\n",
    "\n",
    "    Play a game of higher or lower with the specified number of lives. On\n",
    "    completion, update the high score board as ask to play again.\n",
    "\n",
    "    Args:\n",
    "        lives (int): The number of lives for the game\n",
    "        high_score_board (dict): The current high score for each named player\n",
    "\n",
    "    Returns:\n",
    "        high_score_board (dict): An updated high_score_board\n",
    "\n",
    "    Raises:\n",
    "        TypeError: If `lives` or any value of `high_score_board` is not an\n",
    "                integer\n",
    "        ValueError: If `lives` is non-positive or any value of\n",
    "                `high_score_board` is negative\n",
    "    \"\"\"\n",
    "    # validate inputs\n",
    "    if not isinstance(lives, int):\n",
    "        raise TypeError(\"lives must be a positive integer\")\n",
    "    if lives < 1:\n",
    "        raise ValueError(\"lives must be a positive integer\")\n",
    "    if any(not isinstance(v, int) for v in high_score_board.values()):\n",
    "        raise TypeError(\"high_score_board must have non-negative integer\" +\n",
    "                        \"values\")\n",
    "    if any(v < 0 for v in high_score_board.values()):\n",
    "        raise ValueError(\"high_score_board must have non-negative integer\" +\n",
    "                         \"values\")\n",
    "\n",
    "    # collect celebrity twitter urls and convert to list for random choice\n",
    "    print(\"Loading celebrity list...\")\n",
    "    twitter_urls = list(get_celeb_twitters(verbose=False).items())\n",
    "\n",
    "    keep_playing = True\n",
    "    name = None\n",
    "    while keep_playing:\n",
    "        # ask for name if not known\n",
    "        if not name:\n",
    "            name = input(\"What is your name?\\r\\n\")\n",
    "\n",
    "        incorrect_guesses = 0\n",
    "        score = 0\n",
    "\n",
    "        curr_celeb_name, curr_celeb_followers = random_celeb(twitter_urls)\n",
    "        while incorrect_guesses < lives:\n",
    "            next_celeb_name, next_celeb_followers = random_celeb(twitter_urls)\n",
    "\n",
    "            clear_output()\n",
    "            print(\"Your score is\", score, \"and you have\",\n",
    "                  lives - incorrect_guesses,\n",
    "                  \"life\" if lives - incorrect_guesses == 1 else \"lives\",\n",
    "                  \"remaining\")\n",
    "\n",
    "            print(curr_celeb_name, \"has\", curr_celeb_followers,\n",
    "                  \"Twitter followers\")\n",
    "            print(\"Does\", next_celeb_name, \"have a higher or lower number\",\n",
    "                  \"of followers? (h/l)\")\n",
    "            valid_response = False\n",
    "            while not valid_response:\n",
    "                response = input('')\n",
    "                if response in ('h', 'l'):\n",
    "                    valid_response = True\n",
    "                else:\n",
    "                    print(\"Please type one of 'h' (higher) or 'l' (lower)\")\n",
    "            correct = ((response == 'h' and\n",
    "                        next_celeb_followers >= curr_celeb_followers) or\n",
    "                       (response == 'l' and\n",
    "                        next_celeb_followers <= curr_celeb_followers))\n",
    "            if correct:\n",
    "                print(\"Correct!\", next_celeb_name, \"has\",\n",
    "                      next_celeb_followers, \"followers\")\n",
    "                curr_celeb_name, curr_celeb_followers = \\\n",
    "                    next_celeb_name, next_celeb_followers\n",
    "                score += 1\n",
    "            else:\n",
    "                print(\"Not quite!\", next_celeb_name, \"has\",\n",
    "                      next_celeb_followers, \"followers\")\n",
    "                incorrect_guesses += 1\n",
    "            # pause for a moment to give user a chance to read\n",
    "            time.sleep(2)\n",
    "        print(\"Sorry you've ran out of lives!\")\n",
    "\n",
    "        # update high score\n",
    "        high_score_board[name] = max(score, high_score_board.get(name, 0))\n",
    "\n",
    "        # ask to play again\n",
    "        print(\"Would you like to play again? (y/n/c)\")\n",
    "        print(\"[y] yes\")\n",
    "        print(\"[n] no\")\n",
    "        print(\"[c] yes, and change name\")\n",
    "        valid_response = False\n",
    "        while not valid_response:\n",
    "            response = input()\n",
    "            if response in ('y', 'n', 'c'):\n",
    "                valid_response = True\n",
    "            else:\n",
    "                print(\"Please type one of 'y', 'n' or 'c'\")\n",
    "        if response == 'n':\n",
    "            keep_playing = False\n",
    "        elif response == 'c':\n",
    "            name = None\n",
    "\n",
    "    return high_score_board"
   ]
  },
  {
   "cell_type": "markdown",
   "metadata": {},
   "source": [
    "## Play Game"
   ]
  },
  {
   "cell_type": "code",
   "execution_count": 7,
   "metadata": {},
   "outputs": [
    {
     "name": "stdout",
     "output_type": "stream",
     "text": [
      "Your score is 10 and you have 1 life remaining\n",
      "Alicia Key has 30177256 Twitter followers\n",
      "Does Nick Swisher have a higher or lower number of followers? (h/l)\n",
      "h\n",
      "Not quite! Nick Swisher has 1492900 followers\n",
      "Sorry you've ran out of lives!\n",
      "Would you like to play again? (y/n/c)\n",
      "[y] yes\n",
      "[n] no\n",
      "[c] yes, and change name\n",
      "n\n",
      "High score board:\n",
      "{'Tim': 10}\n"
     ]
    }
   ],
   "source": [
    "# load high scores if exist\n",
    "if os.path.exists('highscores.pkl'):\n",
    "    print('Previous high score board found...loading')\n",
    "    with open('highscores.pkl', 'rb') as f:\n",
    "        high_score_board = pickle.load(f)\n",
    "else:\n",
    "    high_score_board = {}\n",
    "\n",
    "# play game and update high score board\n",
    "high_score_board = higher_or_lower(3, high_score_board)\n",
    "\n",
    "print(\"High score board:\")\n",
    "print({k: v for k, v in sorted(high_score_board.items(),\n",
    "                               key=lambda x: x[1])})\n",
    "\n",
    "# save new high scores\n",
    "with open('highscores.pkl', 'wb') as f:\n",
    "    pickle.dump(high_score_board, f)"
   ]
  }
 ],
 "metadata": {
  "kernelspec": {
   "display_name": "Python 3",
   "language": "python",
   "name": "python3"
  },
  "language_info": {
   "codemirror_mode": {
    "name": "ipython",
    "version": 3
   },
   "file_extension": ".py",
   "mimetype": "text/x-python",
   "name": "python",
   "nbconvert_exporter": "python",
   "pygments_lexer": "ipython3",
   "version": "3.7.3"
  }
 },
 "nbformat": 4,
 "nbformat_minor": 2
}
