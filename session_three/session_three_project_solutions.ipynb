{
 "cells": [
  {
   "cell_type": "markdown",
   "metadata": {},
   "source": [
    "## Setup"
   ]
  },
  {
   "cell_type": "markdown",
   "metadata": {},
   "source": [
    "We require similar modules to the last project."
   ]
  },
  {
   "cell_type": "code",
   "execution_count": 94,
   "metadata": {},
   "outputs": [],
   "source": [
    "import os\n",
    "import re\n",
    "import time\n",
    "\n",
    "from IPython.display import clear_output"
   ]
  },
  {
   "cell_type": "markdown",
   "metadata": {},
   "source": [
    "## RLE  File Reader"
   ]
  },
  {
   "cell_type": "markdown",
   "metadata": {},
   "source": [
    "I've started by creating a function to read a RLE file and return a 2D list of Booleans to represent the initial status of each cell."
   ]
  },
  {
   "cell_type": "code",
   "execution_count": 95,
   "metadata": {},
   "outputs": [],
   "source": [
    "def read_rle(path, width, height, x_offset, y_offset):\n",
    "    \"\"\"\n",
    "    Read a RLE file and return a 2D Boolean list.\n",
    "\n",
    "    Args:\n",
    "        path (str): Path to the RLE file\n",
    "        width (int): The desired width of the grid\n",
    "        height (int): The desired width of the grid\n",
    "        x_offset (int): The horizontal offset the pattern\n",
    "        y_offset (int): The horizontal offset the pattern\n",
    "\n",
    "    Returns:\n",
    "        grid (2D Boolean list): The initial game state\n",
    "\n",
    "    Raises:\n",
    "        ValueError: If the pattern cannot fit on the grid\n",
    "    \"\"\"\n",
    "    # default to dead\n",
    "    grid = [[False for j in range(width)]\n",
    "            for i in range(height)]\n",
    "    with open(path) as f:\n",
    "        lines = f.readlines()\n",
    "        # skip comment lines\n",
    "        n = 0\n",
    "        comments_finished = False\n",
    "        while not comments_finished:\n",
    "            if lines[n][0] != '#':\n",
    "                comments_finished = True\n",
    "                break\n",
    "            n += 1\n",
    "        # read header\n",
    "        header = lines[n]\n",
    "        x = int(re.search(r'x = (\\d+)', header).group(1))\n",
    "        y = int(re.search(r'y = (\\d+)', header).group(1))\n",
    "        \n",
    "        # check that pattern can fit on grid\n",
    "        if x_offset + x >= width or y_offset + y >= height:\n",
    "            raise ValueError(\"pattern can't fit on grid\")\n",
    "        \n",
    "        # read pattern\n",
    "        i = 0\n",
    "        j = 0\n",
    "        multiplier = 1\n",
    "        pattern_complete = False\n",
    "        for l in lines[n+1:]:\n",
    "            for c in l:\n",
    "                if c.isnumeric():\n",
    "                    multiplier = int(c)\n",
    "                elif c == '$':\n",
    "                    i += multiplier\n",
    "                    j = 0\n",
    "                    multiplier = 1\n",
    "                elif c == '!':\n",
    "                    pattern_complete = True\n",
    "                    break\n",
    "                elif c in ('b', 'o'):\n",
    "                    alive = c == 'o'\n",
    "                    for m in range(multiplier):\n",
    "                        grid[i + x_offset][j + y_offset] = alive\n",
    "                        j += 1\n",
    "                    multiplier = 1\n",
    "            if pattern_complete:\n",
    "                break\n",
    "    return grid"
   ]
  },
  {
   "cell_type": "markdown",
   "metadata": {},
   "source": [
    "## Grid Updater"
   ]
  },
  {
   "cell_type": "code",
   "execution_count": 96,
   "metadata": {},
   "outputs": [],
   "source": [
    "def update_grid(grid, wrap=True):\n",
    "    \"\"\"\n",
    "    Update a grid by passing through one time step.\n",
    "\n",
    "    Args:\n",
    "        grid (2D Boolean list): The grid to update\n",
    "        wrap (bool): Whether to wrap the grid\n",
    "\n",
    "    Returns:\n",
    "        grid (2D Boolean list): The new game state\n",
    "    \"\"\"\n",
    "    width = len(grid[0])\n",
    "    height = len(grid)\n",
    "    new_grid = [[None for j in range(height)]\n",
    "                for i in range(width)]\n",
    "    for i in range(height):\n",
    "        for j in range(width):\n",
    "            n_neighbours = 0\n",
    "            for x_offset in (-1, 0, 1):\n",
    "                for y_offset in (-1, 0, 1):\n",
    "                    n_i = i + y_offset\n",
    "                    n_j = j + x_offset\n",
    "                    if wrap:\n",
    "                        n_neighbours += grid[n_i % height][n_j % width]\n",
    "                    else:\n",
    "                        if not 0 <= n_i < height or not 0 <= n_j < width:\n",
    "                            continue\n",
    "                        n_neighbours += grid[n_i][n_j]\n",
    "            # avoid counting self\n",
    "            n_neighbours -= grid[i][j]\n",
    "            if n_neighbours <= 1 or n_neighbours >= 4:\n",
    "                new_grid[i][j] = False\n",
    "            elif n_neighbours == 3:\n",
    "                new_grid[i][j] = True\n",
    "            else:\n",
    "                new_grid[i][j] = grid[i][j]\n",
    "    return new_grid"
   ]
  },
  {
   "cell_type": "markdown",
   "metadata": {},
   "source": [
    "## Rendering"
   ]
  },
  {
   "cell_type": "code",
   "execution_count": 97,
   "metadata": {},
   "outputs": [],
   "source": [
    "def draw_grid(grid):\n",
    "    \"\"\"Pretty-print a grid.\"\"\"\n",
    "    for row in grid:\n",
    "        print(*['#' if cell else '.' for cell in row], sep='')"
   ]
  },
  {
   "cell_type": "markdown",
   "metadata": {},
   "source": [
    "## Run Game"
   ]
  },
  {
   "cell_type": "code",
   "execution_count": 98,
   "metadata": {},
   "outputs": [
    {
     "name": "stdout",
     "output_type": "stream",
     "text": [
      "..........\n",
      "..........\n",
      "..........\n",
      "..........\n",
      "..........\n",
      "..........\n",
      ".......#..\n",
      "........##\n",
      ".......##.\n",
      "..........\n"
     ]
    }
   ],
   "source": [
    "grid = read_rle('glider.rle', 10, 10, 1, 2)\n",
    "num_iter = 100\n",
    "for i in range(num_iter):\n",
    "    clear_output(wait=True)\n",
    "    draw_grid(grid)\n",
    "    grid = update_grid(grid)\n",
    "    time.sleep(0.1)"
   ]
  },
  {
   "cell_type": "code",
   "execution_count": 99,
   "metadata": {},
   "outputs": [
    {
     "name": "stdout",
     "output_type": "stream",
     "text": [
      "...............\n",
      "...###...###...\n",
      "...............\n",
      ".#....#.#....#.\n",
      ".#....#.#....#.\n",
      ".#....#.#....#.\n",
      "...###...###...\n",
      "...............\n",
      "...###...###...\n",
      ".#....#.#....#.\n",
      ".#....#.#....#.\n",
      ".#....#.#....#.\n",
      "...............\n",
      "...###...###...\n",
      "...............\n"
     ]
    }
   ],
   "source": [
    "grid = read_rle('pulsar.rle', 15, 15, 1, 1)\n",
    "num_iter = 100\n",
    "for i in range(num_iter):\n",
    "    clear_output(wait=True)\n",
    "    draw_grid(grid)\n",
    "    grid = update_grid(grid, wrap=False)\n",
    "    time.sleep(0.1)"
   ]
  }
 ],
 "metadata": {
  "kernelspec": {
   "display_name": "Python 3",
   "language": "python",
   "name": "python3"
  },
  "language_info": {
   "codemirror_mode": {
    "name": "ipython",
    "version": 3
   },
   "file_extension": ".py",
   "mimetype": "text/x-python",
   "name": "python",
   "nbconvert_exporter": "python",
   "pygments_lexer": "ipython3",
   "version": "3.6.8"
  }
 },
 "nbformat": 4,
 "nbformat_minor": 2
}
