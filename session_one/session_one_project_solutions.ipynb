{
 "cells": [
  {
   "cell_type": "markdown",
   "metadata": {},
   "source": [
    "## Cryptography Functions"
   ]
  },
  {
   "cell_type": "markdown",
   "metadata": {},
   "source": [
    "We start by defining two functions, one for encrypting messages using the ROT cipher and the other for decrypting. We add a docstring using pairs of three double quotes to offer a description of our function as well as some information about the inputs and outputs."
   ]
  },
  {
   "cell_type": "code",
   "execution_count": 29,
   "metadata": {},
   "outputs": [],
   "source": [
    "def rot_encrypt(msg, rot=13):\n",
    "    \"\"\"\n",
    "    Encrypt a message using the ROT cipher.\n",
    "\n",
    "    Accepts a message and rotation and applies the ROT cipher to encrypt it.\n",
    "    The message is first converted to all upper case before encrypting.\n",
    "\n",
    "    Args:\n",
    "        msg (str): The message to be encrypted.\n",
    "            Must only contain alphabetic characters and spaces.\n",
    "        rot (int): The number of clockwise rotations to perform for encryption.\n",
    "            Defaults to 13.\n",
    "\n",
    "    Returns:\n",
    "        enc (str): The encrypted message.\n",
    "            Will only contain upper case letters and spaces.\n",
    "\n",
    "    Raises:\n",
    "        TypeError: If `msg` is not a string or `rot` is not an integer.\n",
    "        ValueError: If `msg` contains characters other than alphabetic\n",
    "            characters and spaces.\n",
    "    \"\"\"\n",
    "    # validate inputs\n",
    "    if not isinstance(msg, str):\n",
    "        raise TypeError(\"msg must be a string\")\n",
    "    if not isinstance(rot, int):\n",
    "        raise TypeError(\"rot must be an integer\")\n",
    "\n",
    "    # handle spaces by calling the function recursively\n",
    "    if ' ' in msg:\n",
    "        return ' '.join(rot_encrypt(m, rot) for m in msg.split(' '))\n",
    "    elif not msg.isalpha():\n",
    "        raise ValueError(\"msg can only contain alphabet characters and spaces\")\n",
    "\n",
    "    # convert to all upper case\n",
    "    msg = msg.upper()\n",
    "\n",
    "    # convert to numeric representation (A = 0, B = 1, ...)\n",
    "    num_rep = [ord(c) - 65 for c in msg]\n",
    "\n",
    "    # encrypt\n",
    "    enc_num_rep = [(n + rot) % 26 for n in num_rep]\n",
    "\n",
    "    # convert to text\n",
    "    enc = ''.join(chr(n + 65) for n in enc_num_rep)\n",
    "\n",
    "    return enc"
   ]
  },
  {
   "cell_type": "code",
   "execution_count": 30,
   "metadata": {},
   "outputs": [],
   "source": [
    "def rot_decrypt(msg, rot=13):\n",
    "    \"\"\"\n",
    "    Decrypt a message using the ROT cipher.\n",
    "\n",
    "    Accepts a message and rotation and applies the ROT cipher to decrypt it.\n",
    "    This function is simply a wrapper for the `rot_encrypt` function due to\n",
    "    the symmetric nature of encryption/decryption with the ROT cipher. See\n",
    "    the docs for `rot_encrypt` for help with this function.\n",
    "    \"\"\"\n",
    "    return rot_encrypt(msg, -rot)"
   ]
  },
  {
   "cell_type": "markdown",
   "metadata": {},
   "source": [
    "## Testing"
   ]
  },
  {
   "cell_type": "markdown",
   "metadata": {},
   "source": [
    "Once we have our functions defined, we test them to make sure they behave as expected."
   ]
  },
  {
   "cell_type": "code",
   "execution_count": 31,
   "metadata": {},
   "outputs": [
    {
     "name": "stdout",
     "output_type": "stream",
     "text": [
      "SPAM -> FCNZ -> SPAM\n"
     ]
    }
   ],
   "source": [
    "# test with default rotation\n",
    "msg = 'SPAM'\n",
    "enc = rot_encrypt(msg)\n",
    "dec = rot_decrypt(enc)\n",
    "print(msg, enc, dec, sep = ' -> ')"
   ]
  },
  {
   "cell_type": "code",
   "execution_count": 32,
   "metadata": {},
   "outputs": [
    {
     "name": "stdout",
     "output_type": "stream",
     "text": [
      "SPAM -> JGRD -> SPAM\n"
     ]
    }
   ],
   "source": [
    "# test with custom rotation\n",
    "msg = 'SPAM'\n",
    "rot = 17\n",
    "enc = rot_encrypt(msg, rot)\n",
    "dec = rot_decrypt(enc, rot)\n",
    "print(msg, enc, dec, sep = ' -> ')"
   ]
  },
  {
   "cell_type": "code",
   "execution_count": 33,
   "metadata": {},
   "outputs": [
    {
     "name": "stdout",
     "output_type": "stream",
     "text": [
      "SPAM EGGS SPAM -> FCNZ RTTF FCNZ -> SPAM EGGS SPAM\n"
     ]
    }
   ],
   "source": [
    "# test with spaces in message\n",
    "msg = 'SPAM EGGS SPAM'\n",
    "enc = rot_encrypt(msg)\n",
    "dec = rot_decrypt(enc)\n",
    "print(msg, enc, dec, sep = ' -> ')"
   ]
  },
  {
   "cell_type": "code",
   "execution_count": 34,
   "metadata": {},
   "outputs": [
    {
     "name": "stdout",
     "output_type": "stream",
     "text": [
      "SpAm -> FCNZ -> SPAM\n"
     ]
    }
   ],
   "source": [
    "# test with mixed case\n",
    "msg = 'SpAm'\n",
    "enc = rot_encrypt(msg)\n",
    "dec = rot_decrypt(enc)\n",
    "print(msg, enc, dec, sep = ' -> ')"
   ]
  },
  {
   "cell_type": "markdown",
   "metadata": {},
   "source": [
    "It's also important to check that our solution correctly handles errors. Normally, an error would stop our notebook from executing, but by using a `try except` statement we can handle this without stopping."
   ]
  },
  {
   "cell_type": "code",
   "execution_count": 35,
   "metadata": {},
   "outputs": [
    {
     "name": "stdout",
     "output_type": "stream",
     "text": [
      "An error occured\n"
     ]
    }
   ],
   "source": [
    "# test non-string message\n",
    "try:\n",
    "    rot_encrypt(123)\n",
    "except:\n",
    "    print(\"An error occured\")"
   ]
  },
  {
   "cell_type": "code",
   "execution_count": 36,
   "metadata": {},
   "outputs": [
    {
     "name": "stdout",
     "output_type": "stream",
     "text": [
      "An error occured\n"
     ]
    }
   ],
   "source": [
    "# test message with invalid characters\n",
    "try:\n",
    "    rot_encrypt('SP@M')\n",
    "except:\n",
    "    print(\"An error occured\")"
   ]
  },
  {
   "cell_type": "code",
   "execution_count": 37,
   "metadata": {},
   "outputs": [
    {
     "name": "stdout",
     "output_type": "stream",
     "text": [
      "An error occured\n"
     ]
    }
   ],
   "source": [
    "# test invalid rotation\n",
    "try:\n",
    "    rot_encrypt('SPAM', 1.23)\n",
    "except:\n",
    "    print(\"An error occured\")"
   ]
  }
 ],
 "metadata": {
  "kernelspec": {
   "display_name": "Python 3",
   "language": "python",
   "name": "python3"
  },
  "language_info": {
   "codemirror_mode": {
    "name": "ipython",
    "version": 3
   },
   "file_extension": ".py",
   "mimetype": "text/x-python",
   "name": "python",
   "nbconvert_exporter": "python",
   "pygments_lexer": "ipython3",
   "version": "3.7.3"
  }
 },
 "nbformat": 4,
 "nbformat_minor": 2
}
